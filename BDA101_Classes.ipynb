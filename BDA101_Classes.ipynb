{
  "cells": [
    {
      "cell_type": "markdown",
      "metadata": {
        "id": "view-in-github",
        "colab_type": "text"
      },
      "source": [
        "<a href=\"https://colab.research.google.com/github/dragan-serghei/hibernia/blob/main/BDA101_Classes.ipynb\" target=\"_parent\"><img src=\"https://colab.research.google.com/assets/colab-badge.svg\" alt=\"Open In Colab\"/></a>"
      ]
    },
    {
      "cell_type": "markdown",
      "id": "0277cd0c",
      "metadata": {
        "id": "0277cd0c"
      },
      "source": [
        "#### Task 9: Determine the output of python class MyClass "
      ]
    },
    {
      "cell_type": "markdown",
      "id": "b3bce8b3",
      "metadata": {
        "id": "b3bce8b3"
      },
      "source": [
        "Create class MyClass with two methods"
      ]
    },
    {
      "cell_type": "code",
      "execution_count": null,
      "id": "d6259686",
      "metadata": {
        "id": "d6259686"
      },
      "outputs": [],
      "source": [
        "class MyClass(object):\n",
        "    def method1(self, param_list):\n",
        "        self.local_list = []\n",
        "        for element in param_list:\n",
        "            if element > 10:\n",
        "                self.local_list.append(element)\n",
        "    \n",
        "    def method2(self):\n",
        "        self.sum_int = 0\n",
        "        for element in self.local_list:\n",
        "            self.sum_int += element\n",
        "        return self.sum_int"
      ]
    },
    {
      "cell_type": "markdown",
      "id": "3840dca9",
      "metadata": {
        "id": "3840dca9"
      },
      "source": [
        "Initializing two objects of the class MyClass."
      ]
    },
    {
      "cell_type": "code",
      "execution_count": null,
      "id": "3c28a4c8",
      "metadata": {
        "id": "3c28a4c8"
      },
      "outputs": [],
      "source": [
        "inst1 = MyClass()\n",
        "inst2 = MyClass()"
      ]
    },
    {
      "cell_type": "markdown",
      "id": "b0ded913",
      "metadata": {
        "id": "b0ded913"
      },
      "source": [
        "The code statement below prints an empty list as no element in the list satisfies the condition of being greater than 10."
      ]
    },
    {
      "cell_type": "code",
      "execution_count": null,
      "id": "762ca08c",
      "metadata": {
        "id": "762ca08c",
        "outputId": "59ba7eae-89cf-4f56-cbb3-428b5208d610"
      },
      "outputs": [
        {
          "name": "stdout",
          "output_type": "stream",
          "text": [
            "[]\n"
          ]
        }
      ],
      "source": [
        "inst1.method1([1, 2, 3])\n",
        "print(inst1.local_list)"
      ]
    },
    {
      "cell_type": "markdown",
      "id": "dcfe3265",
      "metadata": {
        "id": "dcfe3265"
      },
      "source": [
        "The code statement below prints a list with two elements 11 and 12 as these two numbers satisfy the condition of being greater than 10."
      ]
    },
    {
      "cell_type": "code",
      "execution_count": null,
      "id": "d41e7f28",
      "metadata": {
        "scrolled": true,
        "id": "d41e7f28",
        "outputId": "35bc2d0c-4206-490c-e024-7b35f78d1c71"
      },
      "outputs": [
        {
          "name": "stdout",
          "output_type": "stream",
          "text": [
            "[11, 12]\n"
          ]
        }
      ],
      "source": [
        "inst1.method1([10, 11, 12])\n",
        "print(inst1.local_list)"
      ]
    },
    {
      "cell_type": "markdown",
      "id": "f1ebdf8a",
      "metadata": {
        "id": "f1ebdf8a"
      },
      "source": [
        "The code below prints the sum of the elements from previous step by calling method2 method."
      ]
    },
    {
      "cell_type": "code",
      "execution_count": null,
      "id": "16a62bfe",
      "metadata": {
        "id": "16a62bfe",
        "outputId": "c574a654-70a9-41e2-c453-bd1ca86fd82f"
      },
      "outputs": [
        {
          "name": "stdout",
          "output_type": "stream",
          "text": [
            "23\n"
          ]
        }
      ],
      "source": [
        "print(inst1.method2())"
      ]
    },
    {
      "cell_type": "markdown",
      "id": "c0804b94",
      "metadata": {
        "id": "c0804b94"
      },
      "source": [
        "The call to method2 below applied to inst2 object generates an error as there is no yet a call to method1 which would have created a list which is yet not present."
      ]
    },
    {
      "cell_type": "code",
      "execution_count": null,
      "id": "cad8489b",
      "metadata": {
        "scrolled": true,
        "id": "cad8489b",
        "outputId": "671219ae-2687-456c-d72a-69175431abd6"
      },
      "outputs": [
        {
          "ename": "AttributeError",
          "evalue": "'MyClass' object has no attribute 'local_list'",
          "output_type": "error",
          "traceback": [
            "\u001b[1;31m---------------------------------------------------------------------------\u001b[0m",
            "\u001b[1;31mAttributeError\u001b[0m                            Traceback (most recent call last)",
            "Input \u001b[1;32mIn [8]\u001b[0m, in \u001b[0;36m<cell line: 1>\u001b[1;34m()\u001b[0m\n\u001b[1;32m----> 1\u001b[0m \u001b[43minst2\u001b[49m\u001b[38;5;241;43m.\u001b[39;49m\u001b[43mmethod2\u001b[49m\u001b[43m(\u001b[49m\u001b[43m)\u001b[49m\n",
            "Input \u001b[1;32mIn [1]\u001b[0m, in \u001b[0;36mMyClass.method2\u001b[1;34m(self)\u001b[0m\n\u001b[0;32m      8\u001b[0m \u001b[38;5;28;01mdef\u001b[39;00m \u001b[38;5;21mmethod2\u001b[39m(\u001b[38;5;28mself\u001b[39m):\n\u001b[0;32m      9\u001b[0m     \u001b[38;5;28mself\u001b[39m\u001b[38;5;241m.\u001b[39msum_int \u001b[38;5;241m=\u001b[39m \u001b[38;5;241m0\u001b[39m\n\u001b[1;32m---> 10\u001b[0m     \u001b[38;5;28;01mfor\u001b[39;00m element \u001b[38;5;129;01min\u001b[39;00m \u001b[38;5;28;43mself\u001b[39;49m\u001b[38;5;241;43m.\u001b[39;49m\u001b[43mlocal_list\u001b[49m:\n\u001b[0;32m     11\u001b[0m         \u001b[38;5;28mself\u001b[39m\u001b[38;5;241m.\u001b[39msum_int \u001b[38;5;241m+\u001b[39m\u001b[38;5;241m=\u001b[39m element\n\u001b[0;32m     12\u001b[0m     \u001b[38;5;28;01mreturn\u001b[39;00m \u001b[38;5;28mself\u001b[39m\u001b[38;5;241m.\u001b[39msum_int\n",
            "\u001b[1;31mAttributeError\u001b[0m: 'MyClass' object has no attribute 'local_list'"
          ]
        }
      ],
      "source": [
        "inst2.method2()"
      ]
    },
    {
      "cell_type": "markdown",
      "id": "190e2aad",
      "metadata": {
        "id": "190e2aad"
      },
      "source": [
        "#### Task 11: Design a class to represent a bank account"
      ]
    },
    {
      "cell_type": "code",
      "execution_count": null,
      "id": "10812492",
      "metadata": {
        "id": "10812492"
      },
      "outputs": [],
      "source": [
        "class BankAccount():\n",
        "    \n",
        "    def __init__(self, IBAN, account_number, available_funds, last_transactions):\n",
        "        self.IBAN = IBAN\n",
        "        self.account_number = account_number\n",
        "        self.available_funds = available_funds\n",
        "        self.last_transactions = []\n",
        "    \n",
        "    def details(self):\n",
        "        print(\"IBAN code: \", self.IBAN)\n",
        "        print(\"Acount number: \", self.account_number)\n",
        "        print(\"Available funds: \", self.available_funds)\n",
        "        print(\"Last 5 transactions: \", self.last_transactions)\n",
        "        \n",
        "    def add(self, amount):\n",
        "        if len(self.last_transactions) >= 5:\n",
        "            self.last_transactions.pop(0)\n",
        "        self.last_transactions.append(amount)\n",
        "        self.available_funds += amount\n",
        "    \n",
        "    def subtract(self, amount):\n",
        "        if len(self.last_transactions) >= 5:\n",
        "            self.last_transactions.pop(0)\n",
        "        self.last_transactions.append(amount)\n",
        "        self.available_funds -= amount"
      ]
    },
    {
      "cell_type": "markdown",
      "id": "bf304c1e",
      "metadata": {
        "id": "bf304c1e"
      },
      "source": [
        "Create an object of BankAccount class"
      ]
    },
    {
      "cell_type": "code",
      "execution_count": null,
      "id": "22ef79f9",
      "metadata": {
        "scrolled": true,
        "id": "22ef79f9",
        "outputId": "5c803eba-09a4-407c-8b27-546f5e20d667"
      },
      "outputs": [
        {
          "name": "stdout",
          "output_type": "stream",
          "text": [
            "IBAN code:  INGBRO19021990\n",
            "Acount number:  123456789\n",
            "Available funds:  1500000\n",
            "Last 5 transactions:  []\n"
          ]
        }
      ],
      "source": [
        "account1 = BankAccount('INGBRO19021990', '123456789', 1500000, [])\n",
        "account1.details()"
      ]
    },
    {
      "cell_type": "markdown",
      "id": "e5a8de8f",
      "metadata": {
        "id": "e5a8de8f"
      },
      "source": [
        "Add funds into account"
      ]
    },
    {
      "cell_type": "code",
      "execution_count": null,
      "id": "77922d30",
      "metadata": {
        "id": "77922d30",
        "outputId": "b3897acd-03b9-4ec7-a3f0-69ff13cf8e0a"
      },
      "outputs": [
        {
          "name": "stdout",
          "output_type": "stream",
          "text": [
            "IBAN code:  INGBRO19021990\n",
            "Acount number:  123456789\n",
            "Available funds:  1860000\n",
            "Last 5 transactions:  [200000, 50000, 10000, 200000]\n"
          ]
        }
      ],
      "source": [
        "account1.add(200000)\n",
        "account1.details()"
      ]
    },
    {
      "cell_type": "markdown",
      "id": "89a1440c",
      "metadata": {
        "id": "89a1440c"
      },
      "source": [
        "Subtract funds from account"
      ]
    },
    {
      "cell_type": "code",
      "execution_count": null,
      "id": "df043b3f",
      "metadata": {
        "id": "df043b3f",
        "outputId": "079cc124-80b0-45d2-c99c-ffeab2390920"
      },
      "outputs": [
        {
          "name": "stdout",
          "output_type": "stream",
          "text": [
            "IBAN code:  INGBRO19021990\n",
            "Acount number:  123456789\n",
            "Available funds:  1810000\n",
            "Last 5 transactions:  [200000, 50000, 10000, 200000, 50000]\n"
          ]
        }
      ],
      "source": [
        "account1.subtract(50000)\n",
        "account1.details()"
      ]
    },
    {
      "cell_type": "markdown",
      "id": "32dc7762",
      "metadata": {
        "id": "32dc7762"
      },
      "source": [
        "Add more funds"
      ]
    },
    {
      "cell_type": "code",
      "execution_count": null,
      "id": "543fb505",
      "metadata": {
        "id": "543fb505",
        "outputId": "4a0db7fd-d2df-4425-f240-ae396797a2ae"
      },
      "outputs": [
        {
          "name": "stdout",
          "output_type": "stream",
          "text": [
            "IBAN code:  INGBRO19021990\n",
            "Acount number:  123456789\n",
            "Available funds:  1820000\n",
            "Last 5 transactions:  [50000, 10000, 200000, 50000, 10000]\n"
          ]
        }
      ],
      "source": [
        "account1.add(10000)\n",
        "account1.details()"
      ]
    }
  ],
  "metadata": {
    "kernelspec": {
      "display_name": "Python 3 (ipykernel)",
      "language": "python",
      "name": "python3"
    },
    "language_info": {
      "codemirror_mode": {
        "name": "ipython",
        "version": 3
      },
      "file_extension": ".py",
      "mimetype": "text/x-python",
      "name": "python",
      "nbconvert_exporter": "python",
      "pygments_lexer": "ipython3",
      "version": "3.9.12"
    },
    "colab": {
      "provenance": [],
      "include_colab_link": true
    }
  },
  "nbformat": 4,
  "nbformat_minor": 5
}